{
 "cells": [
  {
   "cell_type": "markdown",
   "metadata": {},
   "source": [
    "## Bibliotecas e dataset"
   ]
  },
  {
   "cell_type": "code",
   "execution_count": null,
   "metadata": {},
   "outputs": [],
   "source": [
    "!pip install -q git+https://github.com/tensorflow/docs#"
   ]
  },
  {
   "cell_type": "code",
   "execution_count": null,
   "metadata": {},
   "outputs": [],
   "source": [
    "import librosa\n",
    "\n",
    "import numpy as np\n",
    "import pandas as pd\n",
    "import os\n",
    "\n",
    "import tensorflow as tf\n",
    "import tensorflow_addons as tfa\n",
    "from tensorflow.keras import layers \n",
    "\n",
    "import matplotlib.pyplot as plt\n",
    "from IPython import display\n",
    "from IPython.display import clear_output\n",
    "\n",
    "import glob\n",
    "import imageio\n",
    "import time\n",
    "import IPython.display as ipd\n",
    "\n",
    "AUTOTUNE = tf.data.experimental.AUTOTUNE"
   ]
  },
  {
   "cell_type": "code",
   "execution_count": null,
   "metadata": {},
   "outputs": [],
   "source": [
    "seed=123\n",
    "tf.compat.v1.set_random_seed(seed)\n",
    "session_conf = tf.compat.v1.ConfigProto(intra_op_parallelism_threads=1, inter_op_parallelism_threads=1)\n",
    "sess = tf.compat.v1.Session(graph=tf.compat.v1.get_default_graph(), config=session_conf)\n",
    "tf.compat.v1.keras.backend.set_session(sess)"
   ]
  },
  {
   "cell_type": "markdown",
   "metadata": {},
   "source": [
    "# Gerando músicas a partir do gênero"
   ]
  },
  {
   "cell_type": "code",
   "execution_count": null,
   "metadata": {},
   "outputs": [],
   "source": [
    "#train_size = 60000\n",
    "BATCH_SIZE = 10\n",
    "#test_size = 10000\n",
    "epochs = 20\n",
    "# set the dimensionality of the latent space to a plane for visualization later\n",
    "latent_dim = 2\n",
    "num_examples_to_generate = 10\n",
    "\n",
    "BASE_PATH = 'Data/genres_original'\n",
    "\n",
    "optimizer = tf.keras.optimizers.Adam(0.0003,beta_1=0.9, beta_2=0.999,epsilon=1e-08)"
   ]
  },
  {
   "cell_type": "markdown",
   "metadata": {},
   "source": [
    "# Funções"
   ]
  },
  {
   "cell_type": "code",
   "execution_count": null,
   "metadata": {},
   "outputs": [],
   "source": [
    "## Carrega a lista de arquivos\n",
    "def DatasetLoader(class_):\n",
    "    music_list = np.array(sorted(os.listdir(BASE_PATH+'/'+class_)))\n",
    "    train_music_1 = list(music_list[[0,52,19,39,71,12,75,85,3,45,24,46,88]]) #99,10,66,76,41\n",
    "    train_music_2 = list(music_list[[4,43,56,55,45,31,11,13,70,37,21,78]]) #65,32,53,22,19,80,89, \n",
    "    TrackSet_1 = [(BASE_PATH)+'/'+class_+'/%s'%(x) for x in train_music_1]\n",
    "    TrackSet_2 = [(BASE_PATH)+'/'+class_+'/%s'%(x) for x in train_music_2]\n",
    "\n",
    "    return TrackSet_1, TrackSet_2\n",
    "\n",
    "## Carrega os audios\n",
    "def load(file_):\n",
    "    data_, sampling_rate = librosa.load(file_,sr=3000, offset=0.0, duration=30)\n",
    "    #print(data_.shape)\n",
    "    data_ = data_.reshape(1,90001)\n",
    "    return data_\n",
    "\n",
    "#map_data = lambda filename: tf.compat.v1.py_func(load, [filename], [tf.float32])\n",
    "\n",
    "import librosa.display\n",
    "\n",
    "## Cria e salva os waveplots\n",
    "def generate_and_save_images(model, epoch, test_sample, save):\n",
    "    mean, logvar = model.encode(test_sample)\n",
    "    z = model.reparameterize(mean, logvar)\n",
    "    predictions = model.sample(z)\n",
    "    fig = plt.figure(figsize=(18, 15))\n",
    "\n",
    "    for i in range(predictions.shape[0]):\n",
    "        plt.subplot(4, 4, i + 1)\n",
    "        wave = np.asarray(predictions[i])\n",
    "        #librosa.display.waveplot(wave[0], sr=3000)\n",
    "\n",
    "    # tight_layout minimizes the overlap between 2 sub-plots\n",
    "    plt.savefig('{}_{:04d}.png'.format(save, epoch))\n",
    "    plt.savefig('{}_{:04d}.png'.format(save, epoch))\n",
    "    plt.show()\n",
    "    \n",
    "\n",
    "## Treinamento\n",
    "def train(train_dataset, test_dataset, model, save):\n",
    "    for epoch in range(1, epochs + 1):\n",
    "        start_time = time.time()\n",
    "        for train_x in train_dataset:\n",
    "            train_x = np.asarray(train_x)[0]\n",
    "            train_step(model, train_x, optimizer)\n",
    "        end_time = time.time()\n",
    "\n",
    "        loss = tf.keras.metrics.Mean()\n",
    "        for test_x in test_dataset:\n",
    "            test_x = np.asarray(test_x)[0]\n",
    "            loss(compute_loss(model, test_x))\n",
    "        display.clear_output(wait=False)\n",
    "        elbo = -loss.result()\n",
    "        print('Epoch: {}, Test set ELBO: {}, time elapse for current epoch: {}'.format(epoch, \n",
    "                                                                                       elbo, \n",
    "                                                                                       end_time - start_time\n",
    "                                                                                      ))\n",
    "        generate_and_save_images(model,\n",
    "                                 epoch, \n",
    "                                 test_sample,\n",
    "                                 save)\n",
    "\n",
    "## Predição a partir da média e variância\n",
    "def inference(test_dataset, model):  \n",
    "    save_music = []\n",
    "    for test in test_dataset:\n",
    "        mean, logvar = model.encode(test)\n",
    "        z = model.reparameterize(mean, logvar)\n",
    "        predictions = model.sample(z)\n",
    "        for pred in predictions:\n",
    "            wave = np.asarray(pred)\n",
    "            save_music.append(wave)\n",
    "    return save_music"
   ]
  },
  {
   "cell_type": "markdown",
   "metadata": {},
   "source": [
    "# Arquitetura da rede"
   ]
  },
  {
   "cell_type": "code",
   "execution_count": null,
   "metadata": {},
   "outputs": [],
   "source": [
    "## Resnet\n",
    "class Resnet1DBlock(tf.keras.Model):\n",
    "    def __init__(self, kernel_size, filters,type='encode'):\n",
    "        super(Resnet1DBlock, self).__init__()\n",
    "    \n",
    "        if type=='encode':\n",
    "            self.conv1a = layers.Conv1D(filters, kernel_size, 2,padding=\"same\")\n",
    "            self.conv1b = layers.Conv1D(filters, kernel_size, 1,padding=\"same\")\n",
    "            self.norm1a = tfa.layers.InstanceNormalization()\n",
    "            self.norm1b = tfa.layers.InstanceNormalization()\n",
    "        if type=='decode':\n",
    "            self.conv1a = layers.Conv1DTranspose(filters, kernel_size, 1,padding=\"same\")\n",
    "            self.conv1b = layers.Conv1DTranspose(filters, kernel_size, 1,padding=\"same\")\n",
    "            self.norm1a = tf.keras.layers.BatchNormalization()\n",
    "            self.norm1b = tf.keras.layers.BatchNormalization()\n",
    "        else:\n",
    "            return None\n",
    "\n",
    "    def call(self, input_tensor):\n",
    "        x = tf.nn.relu(input_tensor)\n",
    "        x = self.conv1a(x)\n",
    "        x = self.norm1a(x)\n",
    "        x = layers.LeakyReLU(0.4)(x)\n",
    "\n",
    "        x = self.conv1b(x)\n",
    "        x = self.norm1b(x)\n",
    "        x = layers.LeakyReLU(0.4)(x)\n",
    "\n",
    "        x += input_tensor\n",
    "        return tf.nn.relu(x)\n",
    "\n",
    "## Convolutional Variational AutoEncoder\n",
    "class CVAE(tf.keras.Model):\n",
    "    \"\"\"Convolutional variational autoencoder.\"\"\"\n",
    "\n",
    "    def __init__(self, latent_dim, shape=90001):\n",
    "        super(CVAE, self).__init__()\n",
    "        self.latent_dim = latent_dim\n",
    "        self.encoder = tf.keras.Sequential(\n",
    "            [\n",
    "                tf.keras.layers.InputLayer(input_shape=(1,shape)),\n",
    "                layers.Conv1D(64,1,2),\n",
    "                Resnet1DBlock(64,1),\n",
    "                layers.Conv1D(128,1,2),\n",
    "                Resnet1DBlock(128,1),\n",
    "                layers.Conv1D(128,1,2),\n",
    "                Resnet1DBlock(128,1),\n",
    "                layers.Conv1D(256,1,2),\n",
    "                Resnet1DBlock(256,1),\n",
    "                # No activation\n",
    "                layers.Flatten(),\n",
    "                layers.Dense(latent_dim+latent_dim)\n",
    "\n",
    "            ]\n",
    "        )\n",
    "        self.decoder = tf.keras.Sequential(\n",
    "            [\n",
    "                tf.keras.layers.InputLayer(input_shape=(latent_dim,)),\n",
    "                layers.Reshape(target_shape=(1,latent_dim)),\n",
    "                Resnet1DBlock(512,1,'decode'),\n",
    "                layers.Conv1DTranspose(512,1,1),\n",
    "                Resnet1DBlock(256,1,'decode'),\n",
    "                layers.Conv1DTranspose(256,1,1),\n",
    "                Resnet1DBlock(128,1,'decode'),\n",
    "                layers.Conv1DTranspose(128,1,1),\n",
    "                Resnet1DBlock(64,1,'decode'),\n",
    "                layers.Conv1DTranspose(64,1,1),\n",
    "                # No activation\n",
    "                layers.Conv1DTranspose(shape,1,1),\n",
    "            ]\n",
    "        )\n",
    "    @tf.function\n",
    "    def sample(self, eps=None):\n",
    "        if eps is None:\n",
    "            eps = tf.random.normal(shape=(200, self.latent_dim))\n",
    "        return self.decode(eps, apply_sigmoid=True)\n",
    "    @tf.function\n",
    "    def encode(self, x):\n",
    "        mean, logvar = tf.split(self.encoder(x), num_or_size_splits=2, axis=1)\n",
    "        return mean, logvar\n",
    "    @tf.function\n",
    "    def reparameterize(self, mean, logvar):\n",
    "        eps = tf.random.normal(shape=mean.shape)\n",
    "        return eps * tf.exp(logvar * .5) + mean\n",
    "    @tf.function\n",
    "    def decode(self, z, apply_sigmoid=False):\n",
    "        logits = self.decoder(z)\n",
    "        if apply_sigmoid:\n",
    "            probs = tf.sigmoid(logits)\n",
    "            return probs\n",
    "        return logits\n",
    "\n",
    "## Função de Densidade de Probabilidade da Dist. Normal\n",
    "@tf.function\n",
    "def log_normal_pdf(sample, mean, logvar, raxis=1):\n",
    "    log2pi = tf.math.log(2. * np.pi)\n",
    "    return tf.reduce_sum(\n",
    "         -.5 * ((sample - mean) ** 2. * tf.exp(-logvar) + logvar + log2pi),\n",
    "          axis=raxis)\n",
    "\n",
    "## Calcula a função de perda (loss)\n",
    "@tf.function\n",
    "def compute_loss(model, x):\n",
    "    mean, logvar = model.encode(x)\n",
    "    z = model.reparameterize(mean, logvar)\n",
    "    x_logit = model.decode(z)\n",
    "    cross_ent = tf.nn.sigmoid_cross_entropy_with_logits(logits=x_logit, labels=x)\n",
    "    logpx_z = -tf.reduce_sum(cross_ent, axis=[1,2])\n",
    "    logpz = log_normal_pdf(z, 0., 0.)\n",
    "    logqz_x = log_normal_pdf(z, mean, logvar)\n",
    "    return -tf.reduce_mean(logpx_z + logpz - logqz_x)\n",
    "\n",
    "## Iteração do treinamento\n",
    "#@tf.function\n",
    "def train_step(model, x, optimizer):\n",
    "    \n",
    "    \"\"\"Executes one training step and returns the loss.\n",
    "\n",
    "       This function computes the loss and gradients, and uses the latter to\n",
    "       update the model's parameters.\n",
    "     \"\"\"\n",
    "    with tf.GradientTape() as tape:\n",
    "            mean, logvar = model.encode(x)\n",
    "            z = model.reparameterize(mean, logvar)\n",
    "            x_logit = model.decode(z)\n",
    "            cross_ent = tf.nn.sigmoid_cross_entropy_with_logits(logits=x_logit, labels=x)\n",
    "            logpx_z = -tf.reduce_sum(cross_ent, axis=[1,2])\n",
    "            logpz = log_normal_pdf(z, 0., 0.)\n",
    "            logqz_x = log_normal_pdf(z, mean, logvar)\n",
    "            loss_KL = -tf.reduce_mean(logpx_z + logpz - logqz_x)\n",
    "            reconstruction_loss = tf.reduce_mean(\n",
    "                     tf.keras.losses.binary_crossentropy(x, x_logit)\n",
    "                 )\n",
    "            total_loss = reconstruction_loss+ loss_KL\n",
    "    gradients = tape.gradient(total_loss, model.trainable_variables)\n",
    "    optimizer.apply_gradients(zip(gradients, model.trainable_variables))"
   ]
  },
  {
   "cell_type": "markdown",
   "metadata": {},
   "source": [
    "## Jazz"
   ]
  },
  {
   "cell_type": "code",
   "execution_count": null,
   "metadata": {},
   "outputs": [],
   "source": [
    "map_data = lambda filename: tf.compat.v1.py_func(load, [filename], [tf.float32])\n",
    "\n",
    "TrackSet_1, TrackSet_2 = DatasetLoader('jazz')\n",
    "\n",
    "train_dataset = (\n",
    "    tf.data.Dataset\n",
    "    .from_tensor_slices((TrackSet_1))\n",
    "    .map(map_data, num_parallel_calls=AUTOTUNE)\n",
    "    .shuffle(3)\n",
    "    .batch(BATCH_SIZE)\n",
    ")\n",
    "test_dataset = (\n",
    "    tf.data.Dataset\n",
    "    .from_tensor_slices((TrackSet_2))\n",
    "    .map(map_data, num_parallel_calls=AUTOTUNE)\n",
    "    .shuffle(3)\n",
    "    .batch(BATCH_SIZE)\n",
    ")\n",
    "\n",
    "random_vector_for_generation = tf.random.normal(shape=[num_examples_to_generate, latent_dim])\n",
    "model_jazz = CVAE(latent_dim)\n",
    "\n",
    "# Pick a sample of the test set for generating output images\n",
    "assert BATCH_SIZE >= num_examples_to_generate\n",
    "for test_batch in test_dataset.take(1):\n",
    "    test_sample = test_batch[0]\n",
    "    \n",
    "train(train_dataset, test_dataset, model_jazz, 'jazz')\n",
    "\n",
    "anim_file_1 = 'jazz_cvae.gif'\n",
    "\n",
    "with imageio.get_writer(anim_file_1, mode='I') as writer:\n",
    "    filenames = glob.glob('jazz*.png')\n",
    "    filenames = sorted(filenames)\n",
    "    for filename in filenames:\n",
    "        image = imageio.imread(filename)\n",
    "        writer.append_data(image)\n",
    "    image = imageio.imread(filename)\n",
    "    writer.append_data(image)\n",
    "    \n",
    "saved_jazz = inference(test_dataset, model_jazz)\n"
   ]
  },
  {
   "cell_type": "code",
   "execution_count": null,
   "metadata": {},
   "outputs": [],
   "source": [
    "music1=saved_jazz[0][0]\n",
    "ipd.Audio(music1,rate=3000)"
   ]
  },
  {
   "cell_type": "code",
   "execution_count": null,
   "metadata": {},
   "outputs": [],
   "source": [
    "music2=saved_jazz[9][0]\n",
    "ipd.Audio(music2,rate=3000)"
   ]
  },
  {
   "cell_type": "code",
   "execution_count": null,
   "metadata": {},
   "outputs": [],
   "source": [
    "music3=saved_jazz[5][0]\n",
    "ipd.Audio(music3,rate=3000)"
   ]
  },
  {
   "cell_type": "markdown",
   "metadata": {},
   "source": [
    "## Classical"
   ]
  },
  {
   "cell_type": "code",
   "execution_count": null,
   "metadata": {
    "scrolled": false
   },
   "outputs": [],
   "source": [
    "map_data = lambda filename: tf.compat.v1.py_func(load, [filename], [tf.float32])\n",
    "\n",
    "TrackSet_1, TrackSet_2 = DatasetLoader('classical')\n",
    "\n",
    "train_dataset = (\n",
    "    tf.data.Dataset\n",
    "    .from_tensor_slices((TrackSet_1))\n",
    "    .map(map_data, num_parallel_calls=AUTOTUNE)\n",
    "    .shuffle(3)\n",
    "    .batch(BATCH_SIZE)\n",
    ")\n",
    "test_dataset = (\n",
    "    tf.data.Dataset\n",
    "    .from_tensor_slices((TrackSet_2))\n",
    "    .map(map_data, num_parallel_calls=AUTOTUNE)\n",
    "    .shuffle(3)\n",
    "    .batch(BATCH_SIZE)\n",
    ")\n",
    "\n",
    "#optimizer = tf.keras.optimizers.Adam(0.0003,beta_1=0.9, beta_2=0.999,epsilon=1e-08)\n",
    "\n",
    "random_vector_for_generation = tf.random.normal(shape=[num_examples_to_generate, latent_dim])\n",
    "model_classical = CVAE(latent_dim)\n",
    "\n",
    "# Pick a sample of the test set for generating output images\n",
    "assert BATCH_SIZE >= num_examples_to_generate\n",
    "for test_batch in test_dataset.take(1):\n",
    "    test_sample = test_batch[0]\n",
    "\n",
    "generate_and_save_images(model_classical, 0, test_sample, 'classical')\n",
    "train(train_dataset, test_dataset, model_classical, 'classical')\n",
    "\n",
    "anim_file_1 = 'classical_cvae.gif'\n",
    "\n",
    "with imageio.get_writer(anim_file_1, mode='I') as writer:\n",
    "    filenames = glob.glob('classical*.png')\n",
    "    filenames = sorted(filenames)\n",
    "    for filename in filenames:\n",
    "        image = imageio.imread(filename)\n",
    "        writer.append_data(image)\n",
    "    image = imageio.imread(filename)\n",
    "    writer.append_data(image)\n",
    "\n",
    "import tensorflow_docs.vis.embed as embed\n",
    "embed.embed_file(anim_file_1)\n",
    "\n",
    "\n",
    "saved_classical = inference(test_dataset, model_classical)\n"
   ]
  },
  {
   "cell_type": "code",
   "execution_count": null,
   "metadata": {},
   "outputs": [],
   "source": [
    "music1=saved_classical[0][0]\n",
    "ipd.Audio(music1,rate=3000)"
   ]
  },
  {
   "cell_type": "code",
   "execution_count": null,
   "metadata": {},
   "outputs": [],
   "source": [
    "music2=saved_classical[9][0]\n",
    "ipd.Audio(music2,rate=3000)"
   ]
  },
  {
   "cell_type": "code",
   "execution_count": null,
   "metadata": {},
   "outputs": [],
   "source": [
    "music3=saved_classical[5][0]\n",
    "ipd.Audio(music3,rate=3000)"
   ]
  },
  {
   "cell_type": "markdown",
   "metadata": {},
   "source": [
    "## Disco"
   ]
  },
  {
   "cell_type": "code",
   "execution_count": null,
   "metadata": {},
   "outputs": [],
   "source": [
    "TrackSet_1, TrackSet_2 = DatasetLoader('disco')\n",
    "\n",
    "train_dataset = (\n",
    "    tf.data.Dataset\n",
    "    .from_tensor_slices((TrackSet_1))\n",
    "    .map(map_data, num_parallel_calls=AUTOTUNE)\n",
    "    .shuffle(3)\n",
    "    .batch(BATCH_SIZE)\n",
    ")\n",
    "test_dataset = (\n",
    "    tf.data.Dataset\n",
    "    .from_tensor_slices((TrackSet_2))\n",
    "    .map(map_data, num_parallel_calls=AUTOTUNE)\n",
    "    .shuffle(3)\n",
    "    .batch(BATCH_SIZE)\n",
    ")\n",
    "\n",
    "#optimizer = tf.keras.optimizers.Adam(0.0003,beta_1=0.9, beta_2=0.999,epsilon=1e-08)\n",
    "\n",
    "random_vector_for_generation = tf.random.normal(shape=[num_examples_to_generate, latent_dim])\n",
    "model_disco = CVAE(latent_dim)\n",
    "\n",
    "# Pick a sample of the test set for generating output images\n",
    "assert BATCH_SIZE >= num_examples_to_generate\n",
    "for test_batch in test_dataset.take(1):\n",
    "    test_sample = test_batch[0]\n",
    "\n",
    "generate_and_save_images(model_disco, 0, test_sample, 'disco')\n",
    "train(train_dataset, test_dataset, model_disco, 'disco')\n",
    "\n",
    "anim_file_1 = 'disco_cvae.gif'\n",
    "\n",
    "with imageio.get_writer(anim_file_1, mode='I') as writer:\n",
    "    filenames = glob.glob('disco*.png')\n",
    "    filenames = sorted(filenames)\n",
    "    for filename in filenames:\n",
    "        image = imageio.imread(filename)\n",
    "        writer.append_data(image)\n",
    "    image = imageio.imread(filename)\n",
    "    writer.append_data(image)\n",
    "\n",
    "import tensorflow_docs.vis.embed as embed\n",
    "embed.embed_file(anim_file_1)\n",
    "\n",
    "\n",
    "saved_disco = inference(test_dataset, model_disco)"
   ]
  },
  {
   "cell_type": "code",
   "execution_count": null,
   "metadata": {},
   "outputs": [],
   "source": [
    "music1=saved_disco[0][0]\n",
    "ipd.Audio(music1,rate=3000)"
   ]
  },
  {
   "cell_type": "code",
   "execution_count": null,
   "metadata": {},
   "outputs": [],
   "source": [
    "music2=saved_disco[9][0]\n",
    "ipd.Audio(music2,rate=3000)"
   ]
  },
  {
   "cell_type": "code",
   "execution_count": null,
   "metadata": {},
   "outputs": [],
   "source": [
    "music3=saved_disco[5][0]\n",
    "ipd.Audio(music3,rate=3000)"
   ]
  },
  {
   "cell_type": "markdown",
   "metadata": {},
   "source": [
    "## Metal"
   ]
  },
  {
   "cell_type": "code",
   "execution_count": null,
   "metadata": {},
   "outputs": [],
   "source": [
    "TrackSet_1, TrackSet_2 = DatasetLoader('metal')\n",
    "\n",
    "train_dataset = (\n",
    "    tf.data.Dataset\n",
    "    .from_tensor_slices((TrackSet_1))\n",
    "    .map(map_data, num_parallel_calls=AUTOTUNE)\n",
    "    .shuffle(3)\n",
    "    .batch(BATCH_SIZE)\n",
    ")\n",
    "test_dataset = (\n",
    "    tf.data.Dataset\n",
    "    .from_tensor_slices((TrackSet_2))\n",
    "    .map(map_data, num_parallel_calls=AUTOTUNE)\n",
    "    .shuffle(3)\n",
    "    .batch(BATCH_SIZE)\n",
    ")\n",
    "\n",
    "#optimizer = tf.keras.optimizers.Adam(0.0003,beta_1=0.9, beta_2=0.999,epsilon=1e-08)\n",
    "\n",
    "random_vector_for_generation = tf.random.normal(shape=[num_examples_to_generate, latent_dim])\n",
    "model_metal = CVAE(latent_dim)\n",
    "\n",
    "# Pick a sample of the test set for generating output images\n",
    "assert BATCH_SIZE >= num_examples_to_generate\n",
    "for test_batch in test_dataset.take(1):\n",
    "    test_sample = test_batch[0]\n",
    "\n",
    "generate_and_save_images(model_metal, 0, test_sample, 'metal')\n",
    "train(train_dataset, test_dataset, model_metal, 'metal')\n",
    "\n",
    "anim_file_1 = 'metal_cvae.gif'\n",
    "\n",
    "with imageio.get_writer(anim_file_1, mode='I') as writer:\n",
    "    filenames = glob.glob('metal*.png')\n",
    "    filenames = sorted(filenames)\n",
    "    for filename in filenames:\n",
    "        image = imageio.imread(filename)\n",
    "        writer.append_data(image)\n",
    "    image = imageio.imread(filename)\n",
    "    writer.append_data(image)\n",
    "\n",
    "import tensorflow_docs.vis.embed as embed\n",
    "embed.embed_file(anim_file_1)\n",
    "\n",
    "\n",
    "saved_metal = inference(test_dataset, model_metal)"
   ]
  },
  {
   "cell_type": "code",
   "execution_count": null,
   "metadata": {},
   "outputs": [],
   "source": [
    "music1=saved_metal[0][0]\n",
    "ipd.Audio(music1,rate=3000)"
   ]
  },
  {
   "cell_type": "code",
   "execution_count": null,
   "metadata": {},
   "outputs": [],
   "source": [
    "music2=saved_metal[9][0]\n",
    "ipd.Audio(music2,rate=3000)"
   ]
  },
  {
   "cell_type": "code",
   "execution_count": null,
   "metadata": {},
   "outputs": [],
   "source": [
    "music3=saved_metal[5][0]\n",
    "ipd.Audio(music3,rate=3000)"
   ]
  },
  {
   "cell_type": "markdown",
   "metadata": {},
   "source": [
    "## Hiphop"
   ]
  },
  {
   "cell_type": "code",
   "execution_count": null,
   "metadata": {},
   "outputs": [],
   "source": [
    "TrackSet_1, TrackSet_2 = DatasetLoader('hiphop')\n",
    "\n",
    "train_dataset = (\n",
    "    tf.data.Dataset\n",
    "    .from_tensor_slices((TrackSet_1))\n",
    "    .map(map_data, num_parallel_calls=AUTOTUNE)\n",
    "    .shuffle(3)\n",
    "    .batch(BATCH_SIZE)\n",
    ")\n",
    "test_dataset = (\n",
    "    tf.data.Dataset\n",
    "    .from_tensor_slices((TrackSet_2))\n",
    "    .map(map_data, num_parallel_calls=AUTOTUNE)\n",
    "    .shuffle(3)\n",
    "    .batch(BATCH_SIZE)\n",
    ")\n",
    "\n",
    "#optimizer = tf.keras.optimizers.Adam(0.0003,beta_1=0.9, beta_2=0.999,epsilon=1e-08)\n",
    "\n",
    "random_vector_for_generation = tf.random.normal(shape=[num_examples_to_generate, latent_dim])\n",
    "model_hiphop = CVAE(latent_dim)\n",
    "\n",
    "# Pick a sample of the test set for generating output images\n",
    "assert BATCH_SIZE >= num_examples_to_generate\n",
    "for test_batch in test_dataset.take(1):\n",
    "    test_sample = test_batch[0]\n",
    "\n",
    "generate_and_save_images(model_hiphop, 0, test_sample, 'hiphop')\n",
    "train(train_dataset, test_dataset, model_hiphop, 'hiphop')\n",
    "\n",
    "anim_file_1 = 'hiphop_cvae.gif'\n",
    "\n",
    "with imageio.get_writer(anim_file_1, mode='I') as writer:\n",
    "    filenames = glob.glob('hiphop*.png')\n",
    "    filenames = sorted(filenames)\n",
    "    for filename in filenames:\n",
    "        image = imageio.imread(filename)\n",
    "        writer.append_data(image)\n",
    "    image = imageio.imread(filename)\n",
    "    writer.append_data(image)\n",
    "\n",
    "import tensorflow_docs.vis.embed as embed\n",
    "embed.embed_file(anim_file_1)\n",
    "\n",
    "\n",
    "saved_hiphop = inference(test_dataset, model_hiphop)"
   ]
  },
  {
   "cell_type": "code",
   "execution_count": null,
   "metadata": {},
   "outputs": [],
   "source": [
    "music1=saved_hiphop[0][0]\n",
    "ipd.Audio(music1,rate=3000)"
   ]
  },
  {
   "cell_type": "code",
   "execution_count": null,
   "metadata": {},
   "outputs": [],
   "source": [
    "music2=saved_hiphop[9][0]\n",
    "ipd.Audio(music2,rate=3000)"
   ]
  },
  {
   "cell_type": "code",
   "execution_count": null,
   "metadata": {},
   "outputs": [],
   "source": [
    "music3=saved_hiphop[5][0]\n",
    "ipd.Audio(music3,rate=3000)"
   ]
  },
  {
   "cell_type": "code",
   "execution_count": null,
   "metadata": {},
   "outputs": [],
   "source": [
    "asdsa"
   ]
  },
  {
   "cell_type": "markdown",
   "metadata": {},
   "source": [
    "# Dígitos"
   ]
  },
  {
   "cell_type": "code",
   "execution_count": null,
   "metadata": {},
   "outputs": [],
   "source": [
    "#train_size = 60000\n",
    "BATCH_SIZE = 10\n",
    "#test_size = 10000\n",
    "epochs = 10\n",
    "# set the dimensionality of the latent space to a plane for visualization later\n",
    "latent_dim = 2\n",
    "num_examples_to_generate = 10\n",
    "\n",
    "#DIGITS_PATH = 'Data/data/01'\n",
    "\n",
    "#optimizer = tf.keras.optimizers.Adam(0.0003,beta_1=0.9, beta_2=0.999,epsilon=1e-08)"
   ]
  },
  {
   "cell_type": "code",
   "execution_count": null,
   "metadata": {},
   "outputs": [],
   "source": [
    "from os import listdir\n",
    "from os.path import isfile, join\n",
    "#mypath1 = 'Data/data/01/'\n",
    "#mypath2 = 'Data/data/02/'\n",
    "mypath1 = 'Data/data/teste1/'\n",
    "mypath2 = 'Data/data/teste2/'\n",
    "onlyfiles1 = [mypath1+f for f in listdir(mypath1) if isfile(join(mypath1, f))]\n",
    "#onlyfiles1\n",
    "onlyfiles2 = [mypath2+f for f in listdir(mypath2) if isfile(join(mypath2, f))]\n",
    "#onlyfiles2"
   ]
  },
  {
   "cell_type": "code",
   "execution_count": null,
   "metadata": {},
   "outputs": [],
   "source": [
    "TrackSet_1, TrackSet_2 = onlyfiles1, onlyfiles2"
   ]
  },
  {
   "cell_type": "code",
   "execution_count": null,
   "metadata": {},
   "outputs": [],
   "source": [
    "def load_dif(file_):\n",
    "    data_, sampling_rate = librosa.load(file_)\n",
    "    duration = librosa.get_duration(y=data_, sr=sampling_rate)\n",
    "    data_, sampling_rate = librosa.load(file_, sr=3000/duration)\n",
    "    data_ = data_.reshape(1,3000)\n",
    "    return data_\n"
   ]
  },
  {
   "cell_type": "code",
   "execution_count": null,
   "metadata": {},
   "outputs": [],
   "source": [
    "map_data = lambda filename: tf.compat.v1.py_func(load_dif, [filename], [tf.float32])\n",
    "\n",
    "train_dataset = (\n",
    "    tf.data.Dataset\n",
    "    .from_tensor_slices((TrackSet_1))\n",
    "    .map(map_data, num_parallel_calls=AUTOTUNE)\n",
    "    .shuffle(3)\n",
    "    .batch(BATCH_SIZE)\n",
    ")\n",
    "test_dataset = (\n",
    "    tf.data.Dataset\n",
    "    .from_tensor_slices((TrackSet_2))\n",
    "    .map(map_data, num_parallel_calls=AUTOTUNE)\n",
    "    .shuffle(3)\n",
    "    .batch(BATCH_SIZE)\n",
    ")\n",
    "\n",
    "#optimizer = tf.keras.optimizers.Adam(0.0003,beta_1=0.9, beta_2=0.999,epsilon=1e-08)\n",
    "\n",
    "random_vector_for_generation = tf.random.normal(shape=[num_examples_to_generate, latent_dim])\n",
    "model = CVAE(latent_dim, shape=3000)\n",
    "\n",
    "# Pick a sample of the test set for generating output images\n",
    "assert BATCH_SIZE >= num_examples_to_generate\n",
    "for test_batch in test_dataset.take(1):\n",
    "    test_sample = test_batch[0]\n",
    "\n",
    "generate_and_save_images(model, 0, test_sample, 'digits')\n",
    "train(train_dataset, test_dataset, model, 'digits')\n",
    "\n",
    "anim_file_1 = 'digits_cvae.gif'\n",
    "\n",
    "with imageio.get_writer(anim_file_1, mode='I') as writer:\n",
    "    filenames = glob.glob('digits*.png')\n",
    "    filenames = sorted(filenames)\n",
    "    for filename in filenames:\n",
    "        image = imageio.imread(filename)\n",
    "        writer.append_data(image)\n",
    "    image = imageio.imread(filename)\n",
    "    writer.append_data(image)\n",
    "\n",
    "import tensorflow_docs.vis.embed as embed\n",
    "embed.embed_file(anim_file_1)\n",
    "\n",
    "\n",
    "saved_musics = inference(test_dataset, model)\n",
    "\n",
    "music1=saved_musics[0][0]\n",
    "ipd.Audio(music1,rate=3000)\n",
    "\n",
    "music2=saved_musics[9][0]\n",
    "ipd.Audio(music2,rate=3000)\n",
    "\n",
    "music3=saved_musics[5][0]\n",
    "ipd.Audio(music3,rate=3000)"
   ]
  },
  {
   "cell_type": "code",
   "execution_count": null,
   "metadata": {},
   "outputs": [],
   "source": [
    "saved_musics = inference(test_dataset, model)\n",
    "\n",
    "music1=saved_musics[0][0]\n",
    "ipd.Audio(music1,rate=3000)"
   ]
  },
  {
   "cell_type": "code",
   "execution_count": null,
   "metadata": {},
   "outputs": [],
   "source": [
    "\n",
    "music2=saved_musics[9][0]\n",
    "ipd.Audio(music2,rate=3000)\n"
   ]
  },
  {
   "cell_type": "code",
   "execution_count": null,
   "metadata": {},
   "outputs": [],
   "source": [
    "\n",
    "music3=saved_musics[100][0]\n",
    "ipd.Audio(music3,rate=3000)"
   ]
  },
  {
   "cell_type": "code",
   "execution_count": null,
   "metadata": {},
   "outputs": [],
   "source": [
    "music3=saved_musics[100][0]"
   ]
  },
  {
   "cell_type": "code",
   "execution_count": null,
   "metadata": {},
   "outputs": [],
   "source": []
  },
  {
   "cell_type": "code",
   "execution_count": null,
   "metadata": {},
   "outputs": [],
   "source": []
  },
  {
   "cell_type": "code",
   "execution_count": null,
   "metadata": {},
   "outputs": [],
   "source": []
  },
  {
   "cell_type": "code",
   "execution_count": null,
   "metadata": {},
   "outputs": [],
   "source": []
  },
  {
   "cell_type": "code",
   "execution_count": null,
   "metadata": {},
   "outputs": [],
   "source": []
  },
  {
   "cell_type": "code",
   "execution_count": null,
   "metadata": {},
   "outputs": [],
   "source": []
  },
  {
   "cell_type": "code",
   "execution_count": null,
   "metadata": {},
   "outputs": [],
   "source": []
  },
  {
   "cell_type": "code",
   "execution_count": null,
   "metadata": {},
   "outputs": [],
   "source": []
  }
 ],
 "metadata": {
  "interpreter": {
   "hash": "8003219c8c57211ee3be347d121ba14ebad7276cdae3d94be72d9e4e17f9edd5"
  },
  "kernelspec": {
   "display_name": "Python 3 (ipykernel)",
   "language": "python",
   "name": "python3"
  },
  "language_info": {
   "codemirror_mode": {
    "name": "ipython",
    "version": 3
   },
   "file_extension": ".py",
   "mimetype": "text/x-python",
   "name": "python",
   "nbconvert_exporter": "python",
   "pygments_lexer": "ipython3",
   "version": "3.9.7"
  }
 },
 "nbformat": 4,
 "nbformat_minor": 2
}
