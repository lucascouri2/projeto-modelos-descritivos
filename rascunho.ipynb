{
 "cells": [
  {
   "cell_type": "markdown",
   "metadata": {},
   "source": [
    "## Bibliotecas e dataset"
   ]
  },
  {
   "cell_type": "code",
   "execution_count": null,
   "metadata": {},
   "outputs": [],
   "source": [
    "!pip install -q git+https://github.com/tensorflow/docs"
   ]
  },
  {
   "cell_type": "code",
   "execution_count": null,
   "metadata": {},
   "outputs": [],
   "source": [
    "import librosa\n",
    "\n",
    "import numpy as np\n",
    "import pandas as pd\n",
    "import os\n",
    "\n",
    "import tensorflow as tf\n",
    "import tensorflow_addons as tfa\n",
    "from tensorflow.keras import layers \n",
    "\n",
    "import matplotlib.pyplot as plt\n",
    "from IPython import display\n",
    "from IPython.display import clear_output\n",
    "\n",
    "import glob\n",
    "import imageio\n",
    "import time\n",
    "import IPython.display as ipd\n",
    "\n",
    "AUTOTUNE = tf.data.experimental.AUTOTUNE"
   ]
  },
  {
   "cell_type": "code",
   "execution_count": null,
   "metadata": {},
   "outputs": [],
   "source": [
    "seed=123\n",
    "tf.compat.v1.set_random_seed(seed)\n",
    "session_conf = tf.compat.v1.ConfigProto(intra_op_parallelism_threads=1, inter_op_parallelism_threads=1)\n",
    "sess = tf.compat.v1.Session(graph=tf.compat.v1.get_default_graph(), config=session_conf)\n",
    "tf.compat.v1.keras.backend.set_session(sess)"
   ]
  },
  {
   "cell_type": "code",
   "execution_count": null,
   "metadata": {},
   "outputs": [],
   "source": [
    "train_size = 60000\n",
    "BATCH_SIZE = 10\n",
    "test_size = 10000\n",
    "epochs = 20\n",
    "# set the dimensionality of the latent space to a plane for visualization later\n",
    "latent_dim = 2\n",
    "num_examples_to_generate = 10\n",
    "\n",
    "BASE_PATH = 'Data/genres_original'"
   ]
  },
  {
   "cell_type": "code",
   "execution_count": null,
   "metadata": {},
   "outputs": [],
   "source": [
    "train_size"
   ]
  },
  {
   "cell_type": "markdown",
   "metadata": {},
   "source": [
    "# Data preprocessing"
   ]
  },
  {
   "cell_type": "code",
   "execution_count": null,
   "metadata": {},
   "outputs": [],
   "source": [
    "def DatasetLoader(class_):\n",
    "    music_list = np.array(sorted(os.listdir(BASE_PATH+'/'+class_)))\n",
    "    train_music_1 = list(music_list[[0,52,19,39,71,12,75,85,3,45,24,46,88]]) #99,10,66,76,41\n",
    "    train_music_2 = list(music_list[[4,43,56,55,45,31,11,13,70,37,21,78]]) #65,32,53,22,19,80,89, \n",
    "    TrackSet_1 = [(BASE_PATH)+'/'+class_+'/%s'%(x) for x in train_music_1]\n",
    "    TrackSet_2 = [(BASE_PATH)+'/'+class_+'/%s'%(x) for x in train_music_2]\n",
    "\n",
    "    return TrackSet_1, TrackSet_2"
   ]
  },
  {
   "cell_type": "code",
   "execution_count": null,
   "metadata": {},
   "outputs": [],
   "source": [
    "from os import listdir\n",
    "from os.path import isfile, join\n",
    "#mypath = 'Data/midi/Bee_Gees/train1'\n",
    "onlyfiles1 = ['Data/midi/Bee_Gees/train1/'+f for f in listdir(mypath) if isfile(join(mypath, f))]\n",
    "#onlyfiles1\n",
    "onlyfiles2 = ['Data/midi/Bee_Gees/train2/'+f for f in listdir(mypath) if isfile(join(mypath, f))]\n",
    "#onlyfiles2"
   ]
  },
  {
   "cell_type": "code",
   "execution_count": null,
   "metadata": {},
   "outputs": [],
   "source": [
    "def DatasetLoader(class_):\n",
    "    music_list = np.array(sorted(os.listdir(BASE_PATH+'/'+class_)))\n",
    "    #train_music_1 = list(music_list[[0,52,19,39,71,12,75,85,3,45,24,46,88]]) #99,10,66,76,41\n",
    "    #train_music_2 = list(music_list[[4,43,56,55,45,31,11,13,70,37,21,78]]) #65,32,53,22,19,80,89, \n",
    "    TrackSet_1 = [(BASE_PATH)+'/'+class_+'/%s'%(x) for x in train_music_1]\n",
    "    TrackSet_2 = [(BASE_PATH)+'/'+class_+'/%s'%(x) for x in train_music_2]\n",
    "\n",
    "    return TrackSet_1, TrackSet_2"
   ]
  },
  {
   "cell_type": "code",
   "execution_count": null,
   "metadata": {},
   "outputs": [],
   "source": [
    "def load(file_):\n",
    "    data_, sampling_rate = librosa.load(file_,sr=3000, offset=0.0, duration=30)\n",
    "    #print(data_.shape)\n",
    "    data_ = data_.reshape(1,90001)\n",
    "    return data_\n",
    "map_data = lambda filename: tf.compat.v1.py_func(load, [filename], [tf.float32])"
   ]
  },
  {
   "cell_type": "code",
   "execution_count": null,
   "metadata": {},
   "outputs": [],
   "source": [
    "TrackSet_1, TrackSet_2 = DatasetLoader('disco')"
   ]
  },
  {
   "cell_type": "code",
   "execution_count": null,
   "metadata": {},
   "outputs": [],
   "source": [
    "TrackSet_1, TrackSet_2 = onlyfiles1, onlyfiles2"
   ]
  },
  {
   "cell_type": "code",
   "execution_count": null,
   "metadata": {},
   "outputs": [],
   "source": []
  },
  {
   "cell_type": "code",
   "execution_count": null,
   "metadata": {},
   "outputs": [],
   "source": [
    "from midi2audio import FluidSynth\n",
    "FluidSynth().midi_to_audio('C:\\\\Users\\\\lucas\\\\Desktop\\\\github\\\\projeto-modelos-descritivos\\\\Data\\\\midi\\\\Bee_Gees\\\\train1\\\\Dont_Forget_to_Remember.mid', 'C:\\\\Users\\\\lucas\\\\Desktop\\\\github\\\\projeto-modelos-descritivos\\\\Data\\\\midi\\\\Bee_Gees\\\\train1\\\\Dont_Forget_to_Remember.wav')"
   ]
  },
  {
   "cell_type": "markdown",
   "metadata": {},
   "source": [
    "## teste"
   ]
  },
  {
   "cell_type": "code",
   "execution_count": null,
   "metadata": {},
   "outputs": [],
   "source": [
    "file = 'Data/genres_original/classical/classical.00005.wav'\n",
    "Signal , sr = librosa.load(file , sr = 22050) # n_samples = 2.6 * 60 * 22050"
   ]
  },
  {
   "cell_type": "markdown",
   "metadata": {},
   "source": [
    "## Amostra da música original"
   ]
  },
  {
   "cell_type": "code",
   "execution_count": null,
   "metadata": {},
   "outputs": [],
   "source": [
    "sample = TrackSet_1[1]\n",
    "sample_, sampling_rate = librosa.load(sample, sr=3000, offset=0.0, duration=30)\n",
    "ipd.Audio(sample_,rate=3000)"
   ]
  },
  {
   "cell_type": "code",
   "execution_count": null,
   "metadata": {},
   "outputs": [],
   "source": [
    "import librosa.display\n",
    "plt.figure(figsize=(18,15))\n",
    "for i in range(4):\n",
    "    plt.subplot(4, 4, i + 1)\n",
    "    j = load(TrackSet_1[i])\n",
    "    librosa.display.waveplot(j[0], sr=3000)"
   ]
  },
  {
   "cell_type": "code",
   "execution_count": null,
   "metadata": {},
   "outputs": [],
   "source": [
    "train_dataset = (\n",
    "    tf.data.Dataset\n",
    "    .from_tensor_slices((TrackSet_1))\n",
    "    .map(map_data, num_parallel_calls=AUTOTUNE)\n",
    "    .shuffle(3)\n",
    "    .batch(BATCH_SIZE)\n",
    ")\n",
    "test_dataset = (\n",
    "    tf.data.Dataset\n",
    "    .from_tensor_slices((TrackSet_2))\n",
    "    .map(map_data, num_parallel_calls=AUTOTUNE)\n",
    "    .shuffle(3)\n",
    "    .batch(BATCH_SIZE)\n",
    ")"
   ]
  },
  {
   "cell_type": "markdown",
   "metadata": {},
   "source": [
    "## Arquitetura da rede"
   ]
  },
  {
   "cell_type": "code",
   "execution_count": null,
   "metadata": {},
   "outputs": [],
   "source": [
    "class Resnet1DBlock(tf.keras.Model):\n",
    "    def __init__(self, kernel_size, filters,type='encode'):\n",
    "        super(Resnet1DBlock, self).__init__()\n",
    "    \n",
    "        if type=='encode':\n",
    "            self.conv1a = layers.Conv1D(filters, kernel_size, 2,padding=\"same\")\n",
    "            self.conv1b = layers.Conv1D(filters, kernel_size, 1,padding=\"same\")\n",
    "            self.norm1a = tfa.layers.InstanceNormalization()\n",
    "            self.norm1b = tfa.layers.InstanceNormalization()\n",
    "        if type=='decode':\n",
    "            self.conv1a = layers.Conv1DTranspose(filters, kernel_size, 1,padding=\"same\")\n",
    "            self.conv1b = layers.Conv1DTranspose(filters, kernel_size, 1,padding=\"same\")\n",
    "            self.norm1a = tf.keras.layers.BatchNormalization()\n",
    "            self.norm1b = tf.keras.layers.BatchNormalization()\n",
    "        else:\n",
    "            return None\n",
    "\n",
    "    def call(self, input_tensor):\n",
    "        x = tf.nn.relu(input_tensor)\n",
    "        x = self.conv1a(x)\n",
    "        x = self.norm1a(x)\n",
    "        x = layers.LeakyReLU(0.4)(x)\n",
    "\n",
    "        x = self.conv1b(x)\n",
    "        x = self.norm1b(x)\n",
    "        x = layers.LeakyReLU(0.4)(x)\n",
    "\n",
    "        x += input_tensor\n",
    "        return tf.nn.relu(x)"
   ]
  },
  {
   "cell_type": "code",
   "execution_count": null,
   "metadata": {},
   "outputs": [],
   "source": [
    "class CVAE(tf.keras.Model):\n",
    "    \"\"\"Convolutional variational autoencoder.\"\"\"\n",
    "\n",
    "    def __init__(self, latent_dim):\n",
    "        super(CVAE, self).__init__()\n",
    "        self.latent_dim = latent_dim\n",
    "        self.encoder = tf.keras.Sequential(\n",
    "            [\n",
    "                tf.keras.layers.InputLayer(input_shape=(1,90001)),\n",
    "                layers.Conv1D(64,1,2),\n",
    "                Resnet1DBlock(64,1),\n",
    "                layers.Conv1D(128,1,2),\n",
    "                Resnet1DBlock(128,1),\n",
    "                layers.Conv1D(128,1,2),\n",
    "                Resnet1DBlock(128,1),\n",
    "                layers.Conv1D(256,1,2),\n",
    "                Resnet1DBlock(256,1),\n",
    "                # No activation\n",
    "                layers.Flatten(),\n",
    "                layers.Dense(latent_dim+latent_dim)\n",
    "\n",
    "            ]\n",
    "        )\n",
    "        self.decoder = tf.keras.Sequential(\n",
    "            [\n",
    "                tf.keras.layers.InputLayer(input_shape=(latent_dim,)),\n",
    "                layers.Reshape(target_shape=(1,latent_dim)),\n",
    "                Resnet1DBlock(512,1,'decode'),\n",
    "                layers.Conv1DTranspose(512,1,1),\n",
    "                Resnet1DBlock(256,1,'decode'),\n",
    "                layers.Conv1DTranspose(256,1,1),\n",
    "                Resnet1DBlock(128,1,'decode'),\n",
    "                layers.Conv1DTranspose(128,1,1),\n",
    "                Resnet1DBlock(64,1,'decode'),\n",
    "                layers.Conv1DTranspose(64,1,1),\n",
    "                # No activation\n",
    "                layers.Conv1DTranspose(90001,1,1),\n",
    "            ]\n",
    "        )\n",
    "    @tf.function\n",
    "    def sample(self, eps=None):\n",
    "        if eps is None:\n",
    "            eps = tf.random.normal(shape=(200, self.latent_dim))\n",
    "        return self.decode(eps, apply_sigmoid=True)\n",
    "    @tf.function\n",
    "    def encode(self, x):\n",
    "        mean, logvar = tf.split(self.encoder(x), num_or_size_splits=2, axis=1)\n",
    "        return mean, logvar\n",
    "    @tf.function\n",
    "    def reparameterize(self, mean, logvar):\n",
    "        eps = tf.random.normal(shape=mean.shape)\n",
    "        return eps * tf.exp(logvar * .5) + mean\n",
    "    @tf.function\n",
    "    def decode(self, z, apply_sigmoid=False):\n",
    "        logits = self.decoder(z)\n",
    "        if apply_sigmoid:\n",
    "            probs = tf.sigmoid(logits)\n",
    "            return probs\n",
    "        return logits"
   ]
  },
  {
   "cell_type": "code",
   "execution_count": null,
   "metadata": {},
   "outputs": [],
   "source": [
    "optimizer = tf.keras.optimizers.Adam(0.0003,beta_1=0.9, beta_2=0.999,epsilon=1e-08)"
   ]
  },
  {
   "cell_type": "code",
   "execution_count": null,
   "metadata": {},
   "outputs": [],
   "source": [
    "@tf.function\n",
    "def log_normal_pdf(sample, mean, logvar, raxis=1):\n",
    "    log2pi = tf.math.log(2. * np.pi)\n",
    "    return tf.reduce_sum(\n",
    "         -.5 * ((sample - mean) ** 2. * tf.exp(-logvar) + logvar + log2pi),\n",
    "          axis=raxis)"
   ]
  },
  {
   "cell_type": "code",
   "execution_count": null,
   "metadata": {},
   "outputs": [],
   "source": [
    "@tf.function\n",
    "def compute_loss(model, x):\n",
    "    mean, logvar = model.encode(x)\n",
    "    z = model.reparameterize(mean, logvar)\n",
    "    x_logit = model.decode(z)\n",
    "    cross_ent = tf.nn.sigmoid_cross_entropy_with_logits(logits=x_logit, labels=x)\n",
    "    logpx_z = -tf.reduce_sum(cross_ent, axis=[1,2])\n",
    "    logpz = log_normal_pdf(z, 0., 0.)\n",
    "    logqz_x = log_normal_pdf(z, mean, logvar)\n",
    "    return -tf.reduce_mean(logpx_z + logpz - logqz_x)"
   ]
  },
  {
   "cell_type": "markdown",
   "metadata": {},
   "source": [
    "## Reconstruction Loss"
   ]
  },
  {
   "cell_type": "code",
   "execution_count": null,
   "metadata": {},
   "outputs": [],
   "source": [
    "@tf.function\n",
    "def train_step(model, x, optimizer):\n",
    "    \n",
    "    \"\"\"Executes one training step and returns the loss.\n",
    "\n",
    "       This function computes the loss and gradients, and uses the latter to\n",
    "       update the model's parameters.\n",
    "     \"\"\"\n",
    "    with tf.GradientTape() as tape:\n",
    "            mean, logvar = model.encode(x)\n",
    "            z = model.reparameterize(mean, logvar)\n",
    "            x_logit = model.decode(z)\n",
    "            cross_ent = tf.nn.sigmoid_cross_entropy_with_logits(logits=x_logit, labels=x)\n",
    "            logpx_z = -tf.reduce_sum(cross_ent, axis=[1,2])\n",
    "            logpz = log_normal_pdf(z, 0., 0.)\n",
    "            logqz_x = log_normal_pdf(z, mean, logvar)\n",
    "            loss_KL = -tf.reduce_mean(logpx_z + logpz - logqz_x)\n",
    "            reconstruction_loss = tf.reduce_mean(\n",
    "                     tf.keras.losses.binary_crossentropy(x, x_logit)\n",
    "                 )\n",
    "            total_loss = reconstruction_loss+ loss_KL\n",
    "    gradients = tape.gradient(total_loss, model.trainable_variables)\n",
    "    optimizer.apply_gradients(zip(gradients, model.trainable_variables))"
   ]
  },
  {
   "cell_type": "code",
   "execution_count": null,
   "metadata": {},
   "outputs": [],
   "source": [
    "# keeping the random vector constant for generation (prediction) so\n",
    "# it will be easier to see the improvement.\n",
    "random_vector_for_generation = tf.random.normal(shape=[num_examples_to_generate, latent_dim])\n",
    "model = CVAE(latent_dim)"
   ]
  },
  {
   "cell_type": "code",
   "execution_count": null,
   "metadata": {},
   "outputs": [],
   "source": [
    "import librosa.display\n",
    "\n",
    "def generate_and_save_images(model, epoch, test_sample, save):\n",
    "    mean, logvar = model.encode(test_sample)\n",
    "    z = model.reparameterize(mean, logvar)\n",
    "    predictions = model.sample(z)\n",
    "    fig = plt.figure(figsize=(18, 15))\n",
    "\n",
    "    for i in range(predictions.shape[0]):\n",
    "        plt.subplot(4, 4, i + 1)\n",
    "        wave = np.asarray(predictions[i])\n",
    "        #librosa.display.waveplot(wave[0], sr=3000)\n",
    "\n",
    "    # tight_layout minimizes the overlap between 2 sub-plots\n",
    "    plt.savefig('{}_{:04d}.png'.format(save, epoch))\n",
    "    plt.savefig('{}_{:04d}.png'.format(save, epoch))\n",
    "    plt.show()"
   ]
  },
  {
   "cell_type": "code",
   "execution_count": null,
   "metadata": {},
   "outputs": [],
   "source": [
    "# Pick a sample of the test set for generating output images\n",
    "assert BATCH_SIZE >= num_examples_to_generate\n",
    "for test_batch in test_dataset.take(1):\n",
    "    test_sample = test_batch[0]"
   ]
  },
  {
   "cell_type": "markdown",
   "metadata": {},
   "source": [
    "## Treinando modelo"
   ]
  },
  {
   "cell_type": "code",
   "execution_count": null,
   "metadata": {},
   "outputs": [],
   "source": [
    "generate_and_save_images(model, 0, test_sample, 'jazz')\n",
    "def train(train_dataset, test_dataset, model, save):\n",
    "    for epoch in range(1, epochs + 1):\n",
    "        start_time = time.time()\n",
    "        for train_x in train_dataset:\n",
    "            train_x = np.asarray(train_x)[0]\n",
    "            train_step(model, train_x, optimizer)\n",
    "        end_time = time.time()\n",
    "\n",
    "        loss = tf.keras.metrics.Mean()\n",
    "        for test_x in test_dataset:\n",
    "            test_x = np.asarray(test_x)[0]\n",
    "            loss(compute_loss(model, test_x))\n",
    "        display.clear_output(wait=False)\n",
    "        elbo = -loss.result()\n",
    "        print('Epoch: {}, Test set ELBO: {}, time elapse for current epoch: {}'.format(epoch, \n",
    "                                                                                       elbo, \n",
    "                                                                                       end_time - start_time\n",
    "                                                                                      ))\n",
    "        generate_and_save_images(model,\n",
    "                                 epoch, \n",
    "                                 test_sample,\n",
    "                                 save)\n",
    "train(train_dataset, test_dataset, model, 'jazz')"
   ]
  },
  {
   "cell_type": "code",
   "execution_count": null,
   "metadata": {},
   "outputs": [],
   "source": [
    "anim_file_1 = 'jazz_cvae.gif'\n",
    "\n",
    "with imageio.get_writer(anim_file_1, mode='I') as writer:\n",
    "    filenames = glob.glob('jazz*.png')\n",
    "    filenames = sorted(filenames)\n",
    "    for filename in filenames:\n",
    "        image = imageio.imread(filename)\n",
    "        writer.append_data(image)\n",
    "    image = imageio.imread(filename)\n",
    "    writer.append_data(image)"
   ]
  },
  {
   "cell_type": "markdown",
   "metadata": {},
   "source": [
    "## Visualizando"
   ]
  },
  {
   "cell_type": "code",
   "execution_count": null,
   "metadata": {},
   "outputs": [],
   "source": [
    "import tensorflow_docs.vis.embed as embed\n",
    "embed.embed_file(anim_file_1)"
   ]
  },
  {
   "cell_type": "markdown",
   "metadata": {},
   "source": [
    "## Generated music - Jazz"
   ]
  },
  {
   "cell_type": "code",
   "execution_count": null,
   "metadata": {},
   "outputs": [],
   "source": [
    "def inference(test_dataset, model):  \n",
    "    save_music = []\n",
    "    for test in test_dataset:\n",
    "        mean, logvar = model.encode(test)\n",
    "        z = model.reparameterize(mean, logvar)\n",
    "        predictions = model.sample(z)\n",
    "        for pred in predictions:\n",
    "            wave = np.asarray(pred)\n",
    "            save_music.append(wave)\n",
    "    return save_music\n",
    "\n",
    "saved_musics = inference(test_dataset, model)"
   ]
  },
  {
   "cell_type": "code",
   "execution_count": null,
   "metadata": {},
   "outputs": [],
   "source": [
    "music1=saved_musics[0][0]\n",
    "ipd.Audio(music1,rate=3000)"
   ]
  },
  {
   "cell_type": "code",
   "execution_count": null,
   "metadata": {},
   "outputs": [],
   "source": [
    "music2=saved_musics[9][0]\n",
    "ipd.Audio(music2,rate=3000)"
   ]
  },
  {
   "cell_type": "code",
   "execution_count": null,
   "metadata": {},
   "outputs": [],
   "source": [
    "music3=saved_musics[5][0]\n",
    "ipd.Audio(music3,rate=3000)"
   ]
  },
  {
   "cell_type": "code",
   "execution_count": null,
   "metadata": {},
   "outputs": [],
   "source": []
  },
  {
   "cell_type": "code",
   "execution_count": null,
   "metadata": {},
   "outputs": [],
   "source": []
  },
  {
   "cell_type": "code",
   "execution_count": null,
   "metadata": {},
   "outputs": [],
   "source": []
  }
 ],
 "metadata": {
  "interpreter": {
   "hash": "8003219c8c57211ee3be347d121ba14ebad7276cdae3d94be72d9e4e17f9edd5"
  },
  "kernelspec": {
   "display_name": "Python 3 (ipykernel)",
   "language": "python",
   "name": "python3"
  },
  "language_info": {
   "codemirror_mode": {
    "name": "ipython",
    "version": 3
   },
   "file_extension": ".py",
   "mimetype": "text/x-python",
   "name": "python",
   "nbconvert_exporter": "python",
   "pygments_lexer": "ipython3",
   "version": "3.9.7"
  }
 },
 "nbformat": 4,
 "nbformat_minor": 2
}
